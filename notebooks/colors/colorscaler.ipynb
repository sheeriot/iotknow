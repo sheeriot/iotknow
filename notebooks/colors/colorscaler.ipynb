{
 "cells": [
  {
   "cell_type": "code",
   "execution_count": 1,
   "id": "40670652",
   "metadata": {},
   "outputs": [
    {
     "ename": "ModuleNotFoundError",
     "evalue": "No module named 'color'",
     "output_type": "error",
     "traceback": [
      "\u001b[0;31m---------------------------------------------------------------------------\u001b[0m",
      "\u001b[0;31mModuleNotFoundError\u001b[0m                       Traceback (most recent call last)",
      "\u001b[0;32m<ipython-input-1-ee7032632885>\u001b[0m in \u001b[0;36m<module>\u001b[0;34m\u001b[0m\n\u001b[0;32m----> 1\u001b[0;31m \u001b[0;32mimport\u001b[0m \u001b[0mcolor\u001b[0m\u001b[0;34m\u001b[0m\u001b[0;34m\u001b[0m\u001b[0m\n\u001b[0m\u001b[1;32m      2\u001b[0m \u001b[0;34m\u001b[0m\u001b[0m\n\u001b[1;32m      3\u001b[0m \u001b[0mred\u001b[0m \u001b[0;34m=\u001b[0m \u001b[0mColor\u001b[0m\u001b[0;34m(\u001b[0m\u001b[0;34m\"red\"\u001b[0m\u001b[0;34m)\u001b[0m\u001b[0;34m\u001b[0m\u001b[0;34m\u001b[0m\u001b[0m\n\u001b[1;32m      4\u001b[0m \u001b[0mcolors\u001b[0m \u001b[0;34m=\u001b[0m \u001b[0mlist\u001b[0m\u001b[0;34m(\u001b[0m\u001b[0mred\u001b[0m\u001b[0;34m.\u001b[0m\u001b[0mrange_to\u001b[0m\u001b[0;34m(\u001b[0m\u001b[0mColor\u001b[0m\u001b[0;34m(\u001b[0m\u001b[0;34m\"green\"\u001b[0m\u001b[0;34m)\u001b[0m\u001b[0;34m,\u001b[0m\u001b[0;36m10\u001b[0m\u001b[0;34m)\u001b[0m\u001b[0;34m)\u001b[0m\u001b[0;34m\u001b[0m\u001b[0;34m\u001b[0m\u001b[0m\n\u001b[1;32m      5\u001b[0m \u001b[0mprint\u001b[0m\u001b[0;34m(\u001b[0m\u001b[0mcolors\u001b[0m\u001b[0;34m)\u001b[0m\u001b[0;34m\u001b[0m\u001b[0;34m\u001b[0m\u001b[0m\n",
      "\u001b[0;31mModuleNotFoundError\u001b[0m: No module named 'color'"
     ]
    }
   ],
   "source": [
    "import color\n",
    "\n",
    "red = Color(\"red\")\n",
    "colors = list(red.range_to(Color(\"green\"),10))\n",
    "print(colors)\n",
    "\n"
   ]
  },
  {
   "cell_type": "markdown",
   "id": "3ea2cca1",
   "metadata": {},
   "source": [
    "Red - '#eb6868' = -55\n",
    "Orange - '#eb8e41' -70\n",
    "Yellow - '#e9dd65' -85\n",
    "Green - '#b4e76f' -100\n",
    "Blue - '#5ccce6' -115\n",
    "Blurple - '#6571e9' -130\n",
    "Purple = '#aa5ff8'- 145\n",
    "\n",
    "-90deg,#eb6868 -6%,#eb8e41 12.4%,#e9dd65 31.7%,#b4e76f 51.4%,#5ccce6 70.1%,#6571e9 89.4%,#aa5ff8 107.7%"
   ]
  },
  {
   "cell_type": "markdown",
   "id": "e6cd300b",
   "metadata": {},
   "source": [
    "rssi_55 = {'color': Color('#eb6868') } # Red\n",
    "rssi_70 = {'color': Color('#eb8e41') } # Orange\n",
    "rssi_85 = {'color': Color('#e9dd65') } # Yellow\n",
    "rssi_100 = {'color': Color('#b4e76f') } # Green\n",
    "rssi_115 = {'color': Color('#5ccce6') } # Blue\n",
    "rssi_130 = {'color': Color('#6571e9') } # Blurple\n",
    "rssi_145 = {'color': Color('#aa5ff8') } # Purple"
   ]
  },
  {
   "cell_type": "code",
   "execution_count": null,
   "id": "aacf6cfb",
   "metadata": {},
   "outputs": [],
   "source": [
    "rssi_137 = {'color': Color('#3d85cc') } #\n",
    "rssi_134 = {'color': Color('#3b6ecf') } # \n",
    "rssi_132 = {'color': Color('#3a55d1') } # \n",
    "rssi_129 = {'color': Color('#383bd3') } # \n",
    "rssi_126 = {'color': Color('#4e37d6') } # \n",
    "rssi_118 = {'color': Color('#6735d8') } # \n",
    "rssi_110 = {'color': Color('#8234db') } # \n",
    "rssi_100 = {'color': Color('#9e32dd') } # \n",
    "rssi_90 = {'color': Color('#bb31e0') } # \n",
    "rssi_80 = {'color': Color('#d92fe2') } # \n",
    "rssi_70 = {'color': Color('#e42ed0') } # \n",
    "rssi_60 = {'color': Color('#e72cb3') } # \n",
    "rssi_50 = {'color': Color('#e92b96') } # "
   ]
  },
  {
   "cell_type": "markdown",
   "id": "19cfb64f",
   "metadata": {},
   "source": [
    "print(rssi_55['color'])\n",
    "print(rssi_70['color'])\n",
    "\n",
    "\n",
    "rssi_colors = {}\n",
    "\n",
    "for i in range(-10,-54,-1):\n",
    "    rssi_colors[i] = rssi_55 \n",
    "    \n",
    "colors = list(rssi_55['color'].range_to(rssi_70['color'],16))\n",
    "print(colors)\n",
    "\n",
    "c = 0\n",
    "print(c)\n",
    "for i in range(-55,-69,-1):\n",
    "    print(f'RSSI {i} Color: {colors(c)}'')\n",
    "    print(i)\n",
    "    rssi_colors[i] = colors(c)\n",
    "    c = c+1\n",
    "    \n",
    "\n",
    "print(rssi_colors)"
   ]
  }
 ],
 "metadata": {
  "kernelspec": {
   "display_name": "venv-colours",
   "language": "python",
   "name": "venv-colours"
  },
  "language_info": {
   "codemirror_mode": {
    "name": "ipython",
    "version": 3
   },
   "file_extension": ".py",
   "mimetype": "text/x-python",
   "name": "python",
   "nbconvert_exporter": "python",
   "pygments_lexer": "ipython3",
   "version": "3.9.6"
  }
 },
 "nbformat": 4,
 "nbformat_minor": 5
}
