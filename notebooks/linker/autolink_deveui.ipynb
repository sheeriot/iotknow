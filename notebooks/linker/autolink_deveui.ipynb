{
 "cells": [
  {
   "cell_type": "code",
   "execution_count": 4,
   "metadata": {},
   "outputs": [],
   "source": [
    "# formatting tester for autolink_deveui.py\n",
    "\n",
    "import pandas as pd\n",
    "from icecream import ic\n",
    "\n",
    "data = {'deveui': ['0123456789abcdef', 'aabbccddeeff0123', 'fedcba9876543210', '4444444444444444'],\n",
    "    'gateway': ['ABCDEFG', 'B00B00', 'CA110F', 'DDEEDDEE'],\n",
    "    'hits': [1,2,3,4]}\n",
    "\n",
    "df = pd.DataFrame(data)\n",
    "\n"
   ]
  },
  {
   "cell_type": "code",
   "execution_count": 9,
   "metadata": {},
   "outputs": [
    {
     "name": "stderr",
     "output_type": "stream",
     "text": [
      "ic| html: '<tr><th>deveui</th><th>gateway</th><th>hits</th></tr>'\n",
      "ic| row_html: \"<tr><td class='deveui'>0123456789abcdef</td><td>ABCDEFG</td><td>1</td></tr>\"\n",
      "ic| row_html:"
     ]
    },
    {
     "name": "stderr",
     "output_type": "stream",
     "text": [
      " \"<tr><td class='deveui'>aabbccddeeff0123</td><td>B00B00</td><td>2</td></tr>\"\n",
      "ic| row_html: \"<tr><td class='deveui'>fedcba9876543210</td><td>CA110F</td><td>3</td></tr>\"\n",
      "ic| row_html: \"<tr><td class='deveui'>4444444444444444</td><td>DDEEDDEE</td><td>4</td></tr>\"\n"
     ]
    }
   ],
   "source": [
    "\n",
    "#def convert_data_frame_to_html_table_headers(df):\n",
    "html = \"<tr>\"\n",
    "for col in df.columns:\n",
    "    html += f\"<th>{col}</th>\"\n",
    "html += \"</tr>\"\n",
    "\n",
    "# def convert_data_frame_to_html_table_rows(df):\n",
    "html = \"\"\n",
    "for index, row in df.iterrows():\n",
    "    # start a new row\n",
    "    row_html = \"<tr>\"\n",
    "    for col in df.columns:\n",
    "        value = row[col]\n",
    "        if isinstance(value, pd.Timestamp):\n",
    "            row_html += f\"<td>{value.strftime('%Y-%m-%d %H:%M:%S(%Z)')}</td>\"\n",
    "            \n",
    "        elif col.lower() in {'device', 'deveui'}:\n",
    "            row_html += f\"<td class='deveui'>{ value }</td>\"\n",
    "        else:\n",
    "            row_html += f\"<td>{value}</td>\"\n",
    "    row_html += \"</tr>\"\n",
    "    html += row_html\n"
   ]
  },
  {
   "cell_type": "code",
   "execution_count": null,
   "metadata": {},
   "outputs": [],
   "source": []
  }
 ],
 "metadata": {
  "kernelspec": {
   "display_name": "venv",
   "language": "python",
   "name": "python3"
  },
  "language_info": {
   "codemirror_mode": {
    "name": "ipython",
    "version": 3
   },
   "file_extension": ".py",
   "mimetype": "text/x-python",
   "name": "python",
   "nbconvert_exporter": "python",
   "pygments_lexer": "ipython3",
   "version": "3.10.12"
  }
 },
 "nbformat": 4,
 "nbformat_minor": 2
}
