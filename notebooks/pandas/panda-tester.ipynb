{
 "cells": [
  {
   "cell_type": "code",
   "execution_count": null,
   "metadata": {},
   "outputs": [],
   "source": [
    "data = {'column_name': [True, False, True, False]}\n",
    "df = pd.DataFrame(data)\n",
    "\n",
    "df['lat'] = [1.234, 2.345, 3.456, 4.567]\n",
    "df['long'] = [10.123, 20.234, 30.345, 40.456]\n",
    "\n",
    "print(df)\n"
   ]
  },
  {
   "cell_type": "code",
   "execution_count": 2,
   "metadata": {},
   "outputs": [
    {
     "name": "stdout",
     "output_type": "stream",
     "text": [
      "          City  Latitude  Longitude  BeenThere\n",
      "0      Houston   29.7604   -95.3698      False\n",
      "1       Dallas   32.7767   -96.7970       True\n",
      "2       Austin   30.2672   -97.7431       True\n",
      "3  San Antonio   29.4241   -98.4936      False\n"
     ]
    }
   ],
   "source": [
    "import pandas as pd\n",
    "\n",
    "data = {'City': ['Houston', 'Dallas', 'Austin', 'San Antonio'],\n",
    "    'Latitude': [29.7604, 32.7767, 30.2672, 29.4241],\n",
    "    'Longitude': [-95.3698, -96.7970, -97.7431, -98.4936],\n",
    "    'BeenThere': [False,False,False,False]}\n",
    "\n",
    "df = pd.DataFrame(data)\n",
    "print(df)\n"
   ]
  },
  {
   "cell_type": "code",
   "execution_count": 3,
   "metadata": {},
   "outputs": [
    {
     "name": "stdout",
     "output_type": "stream",
     "text": [
      "     City  Latitude  Longitude  BeenThere\n",
      "1  Dallas   32.7767   -96.7970       True\n",
      "2  Austin   30.2672   -97.7431       True\n"
     ]
    }
   ],
   "source": [
    "beenthere_df = df[df['BeenThere']]\n",
    "print(beenthere_df)"
   ]
  }
 ],
 "metadata": {
  "kernelspec": {
   "display_name": "Python 3",
   "language": "python",
   "name": "python3"
  },
  "language_info": {
   "codemirror_mode": {
    "name": "ipython",
    "version": 3
   },
   "file_extension": ".py",
   "mimetype": "text/x-python",
   "name": "python",
   "nbconvert_exporter": "python",
   "pygments_lexer": "ipython3",
   "version": "3.10.12"
  }
 },
 "nbformat": 4,
 "nbformat_minor": 2
}
